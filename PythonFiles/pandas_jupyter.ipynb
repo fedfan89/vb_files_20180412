{
 "cells": [
  {
   "cell_type": "code",
   "execution_count": 542,
   "metadata": {},
   "outputs": [],
   "source": [
    "import numpy as np\n",
    "import datetime as dt\n",
    "import pandas as pd\n",
    "import pickle\n",
    "import copy\n",
    "import pprint\n",
    "import decimal\n",
    "import statsmodels.formula.api as sm\n",
    "from time_decorator import my_time_decorator\n",
    "from ols import OLS\n",
    "import math\n",
    "import matplotlib.pyplot as plt\n",
    "import scipy.stats as ss\n",
    "import statsmodels.api as sm\n",
    "from sklearn.linear_model import LinearRegression"
   ]
  },
  {
   "cell_type": "code",
   "execution_count": 543,
   "metadata": {},
   "outputs": [
    {
     "data": {
      "text/plain": [
       "\"OLS model from statsmodels.api as sm\\n    .df_model # Degrees of Freedom of the Model\\n    .df_resid; # Degrees of Freedom of the Residuals\\n    model.endog_names\\n    model.exog_names\\n\\nDeprecation Warning:\\npandas_new.py:45: FutureWarning: pd.rolling_mean is deprecated for DataFrame and will be removed in a future version, replace with \\n    DataFrame.rolling(center=False,window=5).mean()\\n      rolling_mean = pd.rolling_mean(price_table.iloc[::-1], window = 5).round(2)\\n\\n\\nDeleted lines of code that may be interesting:\\nfiltered_data = daily_returns[np.isfinite(daily_returns['SPY'])]   .exog_names\\nprice_table_reversed = price_table.iloc[::-1]\\nrolling_HVs = np.nanstd(daily_returns['SPY'])\\nrolling_mean = price_table.iloc[::-1].rolling(window=5).mean()\\nscrubbed.rename(index=str, columns={'AAPL': 'AAPL_scrubbed', 'SPY': 'SPY_scrubbed'}, inplace=True)\\n\""
      ]
     },
     "execution_count": 543,
     "metadata": {},
     "output_type": "execute_result"
    }
   ],
   "source": [
    "\"\"\"OLS model from statsmodels.api as sm\n",
    "    .df_model # Degrees of Freedom of the Model\n",
    "    .df_resid; # Degrees of Freedom of the Residuals\n",
    "    model.endog_names\n",
    "    model.exog_names\n",
    "\n",
    "Deprecation Warning:\n",
    "pandas_new.py:45: FutureWarning: pd.rolling_mean is deprecated for DataFrame and will be removed in a future version, replace with \n",
    "    DataFrame.rolling(center=False,window=5).mean()\n",
    "      rolling_mean = pd.rolling_mean(price_table.iloc[::-1], window = 5).round(2)\n",
    "\n",
    "\n",
    "Deleted lines of code that may be interesting:\n",
    "filtered_data = daily_returns[np.isfinite(daily_returns['SPY'])]   .exog_names\n",
    "price_table_reversed = price_table.iloc[::-1]\n",
    "rolling_HVs = np.nanstd(daily_returns['SPY'])\n",
    "rolling_mean = price_table.iloc[::-1].rolling(window=5).mean()\n",
    "scrubbed.rename(index=str, columns={'AAPL': 'AAPL_scrubbed', 'SPY': 'SPY_scrubbed'}, inplace=True)\n",
    "\"\"\""
   ]
  },
  {
   "cell_type": "code",
   "execution_count": null,
   "metadata": {},
   "outputs": [],
   "source": []
  },
  {
   "cell_type": "code",
   "execution_count": 544,
   "metadata": {},
   "outputs": [],
   "source": [
    "# Import Price Table as Pandas DataFrame from Pickle File for S&P500 + Discretionary Symbols\n",
    "price_table = pickle.load(open('sp500_price_table.pkl', 'rb')).head(20)[['AAPL', 'SPY']]\n",
    "price_table.index = pd.to_datetime(daily_returns.index)\n",
    "daily_returns = price_table / price_table.shift(-1) - 1\n",
    "model = sm.OLS(daily_returns['AAPL'], daily_returns['SPY'], missing='drop')\n",
    "results = model.fit()"
   ]
  },
  {
   "cell_type": "code",
   "execution_count": 545,
   "metadata": {},
   "outputs": [],
   "source": [
    "# Calculate n-Day Rolling HVs.\n",
    "rolling_HVs = daily_returns.iloc[::-1].rolling(window=5).std()*math.sqrt(252)"
   ]
  },
  {
   "cell_type": "code",
   "execution_count": 546,
   "metadata": {},
   "outputs": [
    {
     "name": "stdout",
     "output_type": "stream",
     "text": [
      "Beta: 0.84, Corr.: 0.56, n = 18\n"
     ]
    }
   ],
   "source": [
    "# Print Statements\n",
    "# Head(500) returns 498 for results.df_resid. I want that number to be 499.\n",
    "print(\"Beta: {:.2f}, Corr.: {:.2f}, n = {:.0f}\".format(results.params['SPY'], results.rsquared, results.df_resid))"
   ]
  },
  {
   "cell_type": "code",
   "execution_count": 547,
   "metadata": {},
   "outputs": [],
   "source": [
    "#daily_returns['AAPL_predicted'] = daily_returns.SPY*results.params['SPY']"
   ]
  },
  {
   "cell_type": "code",
   "execution_count": 548,
   "metadata": {},
   "outputs": [
    {
     "name": "stderr",
     "output_type": "stream",
     "text": [
      "/home/paul/Environments/finance_env/lib/python3.5/site-packages/ipykernel_launcher.py:5: SettingWithCopyWarning: \n",
      "A value is trying to be set on a copy of a slice from a DataFrame.\n",
      "Try using .loc[row_indexer,col_indexer] = value instead\n",
      "\n",
      "See the caveats in the documentation: http://pandas.pydata.org/pandas-docs/stable/indexing.html#indexing-view-versus-copy\n",
      "  \"\"\"\n",
      "/home/paul/Environments/finance_env/lib/python3.5/site-packages/ipykernel_launcher.py:6: SettingWithCopyWarning: \n",
      "A value is trying to be set on a copy of a slice from a DataFrame.\n",
      "Try using .loc[row_indexer,col_indexer] = value instead\n",
      "\n",
      "See the caveats in the documentation: http://pandas.pydata.org/pandas-docs/stable/indexing.html#indexing-view-versus-copy\n",
      "  \n",
      "/home/paul/Environments/finance_env/lib/python3.5/site-packages/ipykernel_launcher.py:7: SettingWithCopyWarning: \n",
      "A value is trying to be set on a copy of a slice from a DataFrame.\n",
      "Try using .loc[row_indexer,col_indexer] = value instead\n",
      "\n",
      "See the caveats in the documentation: http://pandas.pydata.org/pandas-docs/stable/indexing.html#indexing-view-versus-copy\n",
      "  import sys\n"
     ]
    },
    {
     "data": {
      "text/html": [
       "<div>\n",
       "<style scoped>\n",
       "    .dataframe tbody tr th:only-of-type {\n",
       "        vertical-align: middle;\n",
       "    }\n",
       "\n",
       "    .dataframe tbody tr th {\n",
       "        vertical-align: top;\n",
       "    }\n",
       "\n",
       "    .dataframe thead th {\n",
       "        text-align: right;\n",
       "    }\n",
       "</style>\n",
       "<table border=\"1\" class=\"dataframe\">\n",
       "  <thead>\n",
       "    <tr style=\"text-align: right;\">\n",
       "      <th></th>\n",
       "      <th>AAPL</th>\n",
       "      <th>SPY</th>\n",
       "      <th>AAPL_predicted</th>\n",
       "      <th>error</th>\n",
       "      <th>error_squared</th>\n",
       "    </tr>\n",
       "    <tr>\n",
       "      <th>date</th>\n",
       "      <th></th>\n",
       "      <th></th>\n",
       "      <th></th>\n",
       "      <th></th>\n",
       "      <th></th>\n",
       "    </tr>\n",
       "  </thead>\n",
       "  <tbody>\n",
       "    <tr>\n",
       "      <th>2018-03-22</th>\n",
       "      <td>-0.014130</td>\n",
       "      <td>-0.024849</td>\n",
       "      <td>-0.011522</td>\n",
       "      <td>-0.002608</td>\n",
       "      <td>6.799212e-06</td>\n",
       "    </tr>\n",
       "    <tr>\n",
       "      <th>2018-03-19</th>\n",
       "      <td>-0.015279</td>\n",
       "      <td>-0.013530</td>\n",
       "      <td>-0.012460</td>\n",
       "      <td>-0.002820</td>\n",
       "      <td>7.950431e-06</td>\n",
       "    </tr>\n",
       "    <tr>\n",
       "      <th>2018-03-14</th>\n",
       "      <td>-0.008501</td>\n",
       "      <td>-0.005152</td>\n",
       "      <td>-0.006933</td>\n",
       "      <td>-0.001569</td>\n",
       "      <td>2.461348e-06</td>\n",
       "    </tr>\n",
       "    <tr>\n",
       "      <th>2018-03-13</th>\n",
       "      <td>-0.009630</td>\n",
       "      <td>-0.006453</td>\n",
       "      <td>-0.007853</td>\n",
       "      <td>-0.001777</td>\n",
       "      <td>3.158356e-06</td>\n",
       "    </tr>\n",
       "    <tr>\n",
       "      <th>2018-03-09</th>\n",
       "      <td>0.017181</td>\n",
       "      <td>0.017399</td>\n",
       "      <td>0.014010</td>\n",
       "      <td>0.003171</td>\n",
       "      <td>1.005277e-05</td>\n",
       "    </tr>\n",
       "    <tr>\n",
       "      <th>2018-03-05</th>\n",
       "      <td>0.003462</td>\n",
       "      <td>0.011529</td>\n",
       "      <td>0.002823</td>\n",
       "      <td>0.000639</td>\n",
       "      <td>4.081211e-07</td>\n",
       "    </tr>\n",
       "    <tr>\n",
       "      <th>2018-03-02</th>\n",
       "      <td>0.006914</td>\n",
       "      <td>0.005176</td>\n",
       "      <td>0.005638</td>\n",
       "      <td>0.001276</td>\n",
       "      <td>1.628115e-06</td>\n",
       "    </tr>\n",
       "    <tr>\n",
       "      <th>2018-03-01</th>\n",
       "      <td>-0.017516</td>\n",
       "      <td>-0.014562</td>\n",
       "      <td>-0.014284</td>\n",
       "      <td>-0.003232</td>\n",
       "      <td>1.044899e-05</td>\n",
       "    </tr>\n",
       "    <tr>\n",
       "      <th>2018-02-28</th>\n",
       "      <td>-0.001514</td>\n",
       "      <td>-0.010134</td>\n",
       "      <td>-0.001234</td>\n",
       "      <td>-0.000279</td>\n",
       "      <td>7.801480e-08</td>\n",
       "    </tr>\n",
       "    <tr>\n",
       "      <th>2018-02-27</th>\n",
       "      <td>-0.003241</td>\n",
       "      <td>-0.012464</td>\n",
       "      <td>-0.002643</td>\n",
       "      <td>-0.000598</td>\n",
       "      <td>3.576728e-07</td>\n",
       "    </tr>\n",
       "    <tr>\n",
       "      <th>2018-02-26</th>\n",
       "      <td>0.019772</td>\n",
       "      <td>0.011622</td>\n",
       "      <td>0.016123</td>\n",
       "      <td>0.003649</td>\n",
       "      <td>1.331359e-05</td>\n",
       "    </tr>\n",
       "  </tbody>\n",
       "</table>\n",
       "</div>"
      ],
      "text/plain": [
       "                AAPL       SPY  AAPL_predicted     error  error_squared\n",
       "date                                                                   \n",
       "2018-03-22 -0.014130 -0.024849       -0.011522 -0.002608   6.799212e-06\n",
       "2018-03-19 -0.015279 -0.013530       -0.012460 -0.002820   7.950431e-06\n",
       "2018-03-14 -0.008501 -0.005152       -0.006933 -0.001569   2.461348e-06\n",
       "2018-03-13 -0.009630 -0.006453       -0.007853 -0.001777   3.158356e-06\n",
       "2018-03-09  0.017181  0.017399        0.014010  0.003171   1.005277e-05\n",
       "2018-03-05  0.003462  0.011529        0.002823  0.000639   4.081211e-07\n",
       "2018-03-02  0.006914  0.005176        0.005638  0.001276   1.628115e-06\n",
       "2018-03-01 -0.017516 -0.014562       -0.014284 -0.003232   1.044899e-05\n",
       "2018-02-28 -0.001514 -0.010134       -0.001234 -0.000279   7.801480e-08\n",
       "2018-02-27 -0.003241 -0.012464       -0.002643 -0.000598   3.576728e-07\n",
       "2018-02-26  0.019772  0.011622        0.016123  0.003649   1.331359e-05"
      ]
     },
     "execution_count": 548,
     "metadata": {},
     "output_type": "execute_result"
    }
   ],
   "source": [
    "initial_scrub = daily_returns[(abs(daily_returns.SPY) > .005) & (daily_returns.AAPL < .075)]\n",
    "#initial_scrub.rename(index=str, columns={'AAPL': 'AAPL_initial_scrub', 'SPY': 'SPY_initial_scrub'}, inplace=True)\n",
    "model = sm.OLS(initial_scrub['AAPL'], initial_scrub['SPY'], missing='drop')\n",
    "results = model.fit()\n",
    "initial_scrub['AAPL_predicted'] = initial_scrub.AAPL*results.params['SPY']\n",
    "initial_scrub['error'] = initial_scrub.AAPL - initial_scrub.AAPL_predicted\n",
    "initial_scrub['error_squared'] = initial_scrub.error*initial_scrub.error\n",
    "initial_scrub"
   ]
  },
  {
   "cell_type": "code",
   "execution_count": 549,
   "metadata": {},
   "outputs": [
    {
     "data": {
      "text/html": [
       "<div>\n",
       "<style scoped>\n",
       "    .dataframe tbody tr th:only-of-type {\n",
       "        vertical-align: middle;\n",
       "    }\n",
       "\n",
       "    .dataframe tbody tr th {\n",
       "        vertical-align: top;\n",
       "    }\n",
       "\n",
       "    .dataframe thead th {\n",
       "        text-align: right;\n",
       "    }\n",
       "</style>\n",
       "<table border=\"1\" class=\"dataframe\">\n",
       "  <thead>\n",
       "    <tr style=\"text-align: right;\">\n",
       "      <th></th>\n",
       "      <th>AAPL</th>\n",
       "      <th>SPY</th>\n",
       "    </tr>\n",
       "    <tr>\n",
       "      <th>date</th>\n",
       "      <th></th>\n",
       "      <th></th>\n",
       "    </tr>\n",
       "  </thead>\n",
       "  <tbody>\n",
       "    <tr>\n",
       "      <th>2018-03-22</th>\n",
       "      <td>-0.014130</td>\n",
       "      <td>-0.024849</td>\n",
       "    </tr>\n",
       "    <tr>\n",
       "      <th>2018-03-19</th>\n",
       "      <td>-0.015279</td>\n",
       "      <td>-0.013530</td>\n",
       "    </tr>\n",
       "    <tr>\n",
       "      <th>2018-03-14</th>\n",
       "      <td>-0.008501</td>\n",
       "      <td>-0.005152</td>\n",
       "    </tr>\n",
       "    <tr>\n",
       "      <th>2018-03-13</th>\n",
       "      <td>-0.009630</td>\n",
       "      <td>-0.006453</td>\n",
       "    </tr>\n",
       "    <tr>\n",
       "      <th>2018-03-09</th>\n",
       "      <td>0.017181</td>\n",
       "      <td>0.017399</td>\n",
       "    </tr>\n",
       "    <tr>\n",
       "      <th>2018-03-05</th>\n",
       "      <td>0.003462</td>\n",
       "      <td>0.011529</td>\n",
       "    </tr>\n",
       "    <tr>\n",
       "      <th>2018-03-02</th>\n",
       "      <td>0.006914</td>\n",
       "      <td>0.005176</td>\n",
       "    </tr>\n",
       "    <tr>\n",
       "      <th>2018-02-28</th>\n",
       "      <td>-0.001514</td>\n",
       "      <td>-0.010134</td>\n",
       "    </tr>\n",
       "    <tr>\n",
       "      <th>2018-02-27</th>\n",
       "      <td>-0.003241</td>\n",
       "      <td>-0.012464</td>\n",
       "    </tr>\n",
       "  </tbody>\n",
       "</table>\n",
       "</div>"
      ],
      "text/plain": [
       "                AAPL       SPY\n",
       "date                          \n",
       "2018-03-22 -0.014130 -0.024849\n",
       "2018-03-19 -0.015279 -0.013530\n",
       "2018-03-14 -0.008501 -0.005152\n",
       "2018-03-13 -0.009630 -0.006453\n",
       "2018-03-09  0.017181  0.017399\n",
       "2018-03-05  0.003462  0.011529\n",
       "2018-03-02  0.006914  0.005176\n",
       "2018-02-28 -0.001514 -0.010134\n",
       "2018-02-27 -0.003241 -0.012464"
      ]
     },
     "execution_count": 549,
     "metadata": {},
     "output_type": "execute_result"
    }
   ],
   "source": [
    "pct_cutoff = .15\n",
    "second_scrub = initial_scrub[initial_scrub['error_squared'] < initial_scrub.error_squared.quantile(1-pct_cutoff)].loc[:, ['AAPL', 'SPY']]\n",
    "second_scrub"
   ]
  },
  {
   "cell_type": "code",
   "execution_count": 550,
   "metadata": {},
   "outputs": [
    {
     "ename": "ValueError",
     "evalue": "columns overlap but no suffix specified: Index(['AAPL', 'SPY'], dtype='object')",
     "output_type": "error",
     "traceback": [
      "\u001b[0;31m---------------------------------------------------------------------------\u001b[0m",
      "\u001b[0;31mValueError\u001b[0m                                Traceback (most recent call last)",
      "\u001b[0;32m<ipython-input-550-9841927efde5>\u001b[0m in \u001b[0;36m<module>\u001b[0;34m()\u001b[0m\n\u001b[0;32m----> 1\u001b[0;31m \u001b[0mmain\u001b[0m \u001b[0;34m=\u001b[0m \u001b[0mdaily_returns\u001b[0m\u001b[0;34m.\u001b[0m\u001b[0mjoin\u001b[0m\u001b[0;34m(\u001b[0m\u001b[0minitial_scrub\u001b[0m\u001b[0;34m)\u001b[0m\u001b[0;34m\u001b[0m\u001b[0m\n\u001b[0m\u001b[1;32m      2\u001b[0m \u001b[0mmain\u001b[0m\u001b[0;34m\u001b[0m\u001b[0m\n",
      "\u001b[0;32m~/Environments/finance_env/lib/python3.5/site-packages/pandas/core/frame.py\u001b[0m in \u001b[0;36mjoin\u001b[0;34m(self, other, on, how, lsuffix, rsuffix, sort)\u001b[0m\n\u001b[1;32m   5314\u001b[0m         \u001b[0;31m# For SparseDataFrame's benefit\u001b[0m\u001b[0;34m\u001b[0m\u001b[0;34m\u001b[0m\u001b[0m\n\u001b[1;32m   5315\u001b[0m         return self._join_compat(other, on=on, how=how, lsuffix=lsuffix,\n\u001b[0;32m-> 5316\u001b[0;31m                                  rsuffix=rsuffix, sort=sort)\n\u001b[0m\u001b[1;32m   5317\u001b[0m \u001b[0;34m\u001b[0m\u001b[0m\n\u001b[1;32m   5318\u001b[0m     def _join_compat(self, other, on=None, how='left', lsuffix='', rsuffix='',\n",
      "\u001b[0;32m~/Environments/finance_env/lib/python3.5/site-packages/pandas/core/frame.py\u001b[0m in \u001b[0;36m_join_compat\u001b[0;34m(self, other, on, how, lsuffix, rsuffix, sort)\u001b[0m\n\u001b[1;32m   5329\u001b[0m             return merge(self, other, left_on=on, how=how,\n\u001b[1;32m   5330\u001b[0m                          \u001b[0mleft_index\u001b[0m\u001b[0;34m=\u001b[0m\u001b[0mon\u001b[0m \u001b[0;32mis\u001b[0m \u001b[0;32mNone\u001b[0m\u001b[0;34m,\u001b[0m \u001b[0mright_index\u001b[0m\u001b[0;34m=\u001b[0m\u001b[0;32mTrue\u001b[0m\u001b[0;34m,\u001b[0m\u001b[0;34m\u001b[0m\u001b[0m\n\u001b[0;32m-> 5331\u001b[0;31m                          suffixes=(lsuffix, rsuffix), sort=sort)\n\u001b[0m\u001b[1;32m   5332\u001b[0m         \u001b[0;32melse\u001b[0m\u001b[0;34m:\u001b[0m\u001b[0;34m\u001b[0m\u001b[0m\n\u001b[1;32m   5333\u001b[0m             \u001b[0;32mif\u001b[0m \u001b[0mon\u001b[0m \u001b[0;32mis\u001b[0m \u001b[0;32mnot\u001b[0m \u001b[0;32mNone\u001b[0m\u001b[0;34m:\u001b[0m\u001b[0;34m\u001b[0m\u001b[0m\n",
      "\u001b[0;32m~/Environments/finance_env/lib/python3.5/site-packages/pandas/core/reshape/merge.py\u001b[0m in \u001b[0;36mmerge\u001b[0;34m(left, right, how, on, left_on, right_on, left_index, right_index, sort, suffixes, copy, indicator, validate)\u001b[0m\n\u001b[1;32m     56\u001b[0m                          \u001b[0mcopy\u001b[0m\u001b[0;34m=\u001b[0m\u001b[0mcopy\u001b[0m\u001b[0;34m,\u001b[0m \u001b[0mindicator\u001b[0m\u001b[0;34m=\u001b[0m\u001b[0mindicator\u001b[0m\u001b[0;34m,\u001b[0m\u001b[0;34m\u001b[0m\u001b[0m\n\u001b[1;32m     57\u001b[0m                          validate=validate)\n\u001b[0;32m---> 58\u001b[0;31m     \u001b[0;32mreturn\u001b[0m \u001b[0mop\u001b[0m\u001b[0;34m.\u001b[0m\u001b[0mget_result\u001b[0m\u001b[0;34m(\u001b[0m\u001b[0;34m)\u001b[0m\u001b[0;34m\u001b[0m\u001b[0m\n\u001b[0m\u001b[1;32m     59\u001b[0m \u001b[0;34m\u001b[0m\u001b[0m\n\u001b[1;32m     60\u001b[0m \u001b[0;34m\u001b[0m\u001b[0m\n",
      "\u001b[0;32m~/Environments/finance_env/lib/python3.5/site-packages/pandas/core/reshape/merge.py\u001b[0m in \u001b[0;36mget_result\u001b[0;34m(self)\u001b[0m\n\u001b[1;32m    586\u001b[0m \u001b[0;34m\u001b[0m\u001b[0m\n\u001b[1;32m    587\u001b[0m         llabels, rlabels = items_overlap_with_suffix(ldata.items, lsuf,\n\u001b[0;32m--> 588\u001b[0;31m                                                      rdata.items, rsuf)\n\u001b[0m\u001b[1;32m    589\u001b[0m \u001b[0;34m\u001b[0m\u001b[0m\n\u001b[1;32m    590\u001b[0m         \u001b[0mlindexers\u001b[0m \u001b[0;34m=\u001b[0m \u001b[0;34m{\u001b[0m\u001b[0;36m1\u001b[0m\u001b[0;34m:\u001b[0m \u001b[0mleft_indexer\u001b[0m\u001b[0;34m}\u001b[0m \u001b[0;32mif\u001b[0m \u001b[0mleft_indexer\u001b[0m \u001b[0;32mis\u001b[0m \u001b[0;32mnot\u001b[0m \u001b[0;32mNone\u001b[0m \u001b[0;32melse\u001b[0m \u001b[0;34m{\u001b[0m\u001b[0;34m}\u001b[0m\u001b[0;34m\u001b[0m\u001b[0m\n",
      "\u001b[0;32m~/Environments/finance_env/lib/python3.5/site-packages/pandas/core/internals.py\u001b[0m in \u001b[0;36mitems_overlap_with_suffix\u001b[0;34m(left, lsuffix, right, rsuffix)\u001b[0m\n\u001b[1;32m   5024\u001b[0m         \u001b[0;32mif\u001b[0m \u001b[0;32mnot\u001b[0m \u001b[0mlsuffix\u001b[0m \u001b[0;32mand\u001b[0m \u001b[0;32mnot\u001b[0m \u001b[0mrsuffix\u001b[0m\u001b[0;34m:\u001b[0m\u001b[0;34m\u001b[0m\u001b[0m\n\u001b[1;32m   5025\u001b[0m             raise ValueError('columns overlap but no suffix specified: %s' %\n\u001b[0;32m-> 5026\u001b[0;31m                              to_rename)\n\u001b[0m\u001b[1;32m   5027\u001b[0m \u001b[0;34m\u001b[0m\u001b[0m\n\u001b[1;32m   5028\u001b[0m         \u001b[0;32mdef\u001b[0m \u001b[0mlrenamer\u001b[0m\u001b[0;34m(\u001b[0m\u001b[0mx\u001b[0m\u001b[0;34m)\u001b[0m\u001b[0;34m:\u001b[0m\u001b[0;34m\u001b[0m\u001b[0m\n",
      "\u001b[0;31mValueError\u001b[0m: columns overlap but no suffix specified: Index(['AAPL', 'SPY'], dtype='object')"
     ]
    }
   ],
   "source": [
    "main = daily_returns.join(initial_scrub)\n",
    "main"
   ]
  },
  {
   "cell_type": "code",
   "execution_count": null,
   "metadata": {},
   "outputs": [],
   "source": []
  },
  {
   "cell_type": "code",
   "execution_count": null,
   "metadata": {},
   "outputs": [],
   "source": []
  }
 ],
 "metadata": {
  "kernelspec": {
   "display_name": "Python 3",
   "language": "python",
   "name": "python3"
  },
  "language_info": {
   "codemirror_mode": {
    "name": "ipython",
    "version": 3
   },
   "file_extension": ".py",
   "mimetype": "text/x-python",
   "name": "python",
   "nbconvert_exporter": "python",
   "pygments_lexer": "ipython3",
   "version": "3.5.2"
  }
 },
 "nbformat": 4,
 "nbformat_minor": 2
}
